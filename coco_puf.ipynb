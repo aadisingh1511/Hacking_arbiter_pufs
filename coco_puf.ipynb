{
  "nbformat": 4,
  "nbformat_minor": 0,
  "metadata": {
    "colab": {
      "provenance": [],
      "authorship_tag": "ABX9TyOi+nR+gOyFXep8/unB1IKC",
      "include_colab_link": true
    },
    "kernelspec": {
      "name": "python3",
      "display_name": "Python 3"
    },
    "language_info": {
      "name": "python"
    }
  },
  "cells": [
    {
      "cell_type": "markdown",
      "metadata": {
        "id": "view-in-github",
        "colab_type": "text"
      },
      "source": [
        "<a href=\"https://colab.research.google.com/github/aadisingh1511/Hacking_arbiter_pufs/blob/main/coco_puf.ipynb\" target=\"_parent\"><img src=\"https://colab.research.google.com/assets/colab-badge.svg\" alt=\"Open In Colab\"/></a>"
      ]
    },
    {
      "cell_type": "code",
      "execution_count": 4,
      "metadata": {
        "id": "IIGxjcB4tVNu"
      },
      "outputs": [],
      "source": [
        "import numpy as np\n",
        "import pandas as pd\n",
        "from sklearn.linear_model import LogisticRegression\n",
        "from sklearn.svm import LinearSVC\n",
        "from sklearn.metrics import accuracy_score\n",
        "import time as tm\n",
        "import numpy as np\n",
        "\n",
        "def my_map(challenges):\n",
        "    features = []\n",
        "\n",
        "    for challenge in challenges:\n",
        "        # Take the first 32 numbers of the challenge array\n",
        "        challenge_subset = challenge[:32]\n",
        "\n",
        "        di = 1 - 2 * challenge_subset  # Calculate di values for the subset of challenge\n",
        "\n",
        "        # Calculate cumulative product in reverse\n",
        "        cumprod_di = np.cumprod(di[::-1])[::-1]\n",
        "\n",
        "        # Calculate xi values using cumulative products\n",
        "        xi = cumprod_di[:-1]  # Remove the last element\n",
        "\n",
        "        feature_vector = np.concatenate((xi, di)).flatten()  # Concatenate and flatten xi and di\n",
        "        features.append(feature_vector)\n",
        "\n",
        "    feat = np.array(features)  # Convert list of feature vectors to numpy array\n",
        "    return feat\n",
        "\n",
        "\n",
        "\n",
        "from sklearn.svm import LinearSVC\n",
        "\n",
        "def my_fit(X_train, y0_train, y1_train):\n",
        "################################\n",
        "#  Non Editable Region Ending  #\n",
        "################################\n",
        "    # Use this method to train your models using training CRPs\n",
        "    # X_train has 32 columns containing the challenge bits\n",
        "    # y0_train contains the values for Response0\n",
        "    # y1_train contains the values for Response1\n",
        "\n",
        "    # Set C values based on the provided parameter\n",
        "\n",
        "    C=0.01\n",
        "    # Map challenges to features\n",
        "    features_train = my_map(X_train)\n",
        "\n",
        "    # Train models for Response0 using LinearSVC with specified loss and C value\n",
        "\n",
        "\n",
        "    # Train models for Response0 using LinearSVC with specified loss and C value\n",
        "    model0 = LinearSVC( C=C)\n",
        "    model0.fit(features_train, y0_train)\n",
        "    w0 = model0.coef_.flatten()\n",
        "    b0 = model0.intercept_[0]\n",
        "\n",
        "    # Train models for Response1 using LinearSVC with specified loss and C value\n",
        "    model1 = LinearSVC(C=C)\n",
        "    model1.fit(features_train, y1_train)\n",
        "    w1 = model1.coef_.flatten()\n",
        "    b1 = model1.intercept_[0]\n",
        "\n",
        "\n",
        "    return w0, b0, w1, b1"
      ]
    },
    {
      "cell_type": "code",
      "source": [
        "Z_trn = np.loadtxt( \"public_trn.txt\" )\n",
        "Z_tst = np.loadtxt( \"public_tst.txt\" )\n",
        "\n",
        "n_trials = 5\n",
        "\n",
        "d_size = 0\n",
        "t_train = 0\n",
        "t_map = 0\n",
        "acc0 = 0\n",
        "acc1 = 0\n"
      ],
      "metadata": {
        "id": "VU5vVFrAtZ_u"
      },
      "execution_count": 5,
      "outputs": []
    },
    {
      "cell_type": "code",
      "source": [
        "for t in range(n_trials):\n",
        "    tic = tm.perf_counter()\n",
        "    w0, b0, w1, b1 = my_fit(Z_trn[:, :-2], Z_trn[:, -2], Z_trn[:, -1])\n",
        "    toc = tm.perf_counter()\n",
        "\n",
        "    t_train += toc - tic\n",
        "    w0 = w0.reshape(-1)\n",
        "    w1 = w1.reshape(-1)\n",
        "\n",
        "    d_size += max(w0.shape[0], w1.shape[0])\n",
        "    tic = tm.perf_counter()\n",
        "    feat = my_map(Z_tst[:, :-2])\n",
        "    toc = tm.perf_counter()\n",
        "    t_map += toc - tic\n",
        "\n",
        "    scores0 = feat.dot(w0) + b0\n",
        "    scores1 = feat.dot(w1) + b1\n",
        "\n",
        "    pred0 = np.zeros_like(scores0)\n",
        "    pred0[scores0 > 0] = 1\n",
        "    pred1 = np.zeros_like(scores1)\n",
        "    pred1[scores1 > 0] = 1\n",
        "\n",
        "    acc0 += np.average(Z_tst[:, -2] == pred0)\n",
        "    acc1 += np.average(Z_tst[:, -1] == pred1)"
      ],
      "metadata": {
        "id": "QUV_wC5Nviol"
      },
      "execution_count": 6,
      "outputs": []
    },
    {
      "cell_type": "code",
      "source": [
        "print( f\"{d_size},{t_train},{t_map},{acc0},{acc1}\" )\n"
      ],
      "metadata": {
        "colab": {
          "base_uri": "https://localhost:8080/"
        },
        "id": "3asuSqjxv0ff",
        "outputId": "fb44c1eb-82b8-43bf-d62e-e3d06e27ab09"
      },
      "execution_count": 9,
      "outputs": [
        {
          "output_type": "stream",
          "name": "stdout",
          "text": [
            "63.0,1.0905877996000015,0.11468249540000101,0.9799,0.9948\n"
          ]
        }
      ]
    },
    {
      "cell_type": "code",
      "source": [
        "d_size /= n_trials\n",
        "t_train /= n_trials\n",
        "t_map /= n_trials\n",
        "acc0 /= n_trials\n",
        "acc1 /= n_trials\n"
      ],
      "metadata": {
        "id": "Xv41iNYTvv9S"
      },
      "execution_count": 8,
      "outputs": []
    },
    {
      "cell_type": "code",
      "source": [],
      "metadata": {
        "id": "lLhPFo-A0iP7"
      },
      "execution_count": null,
      "outputs": []
    }
  ]
}